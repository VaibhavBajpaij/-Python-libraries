{
 "cells": [
  {
   "cell_type": "markdown",
   "id": "5f30f6a2-3590-43cb-a491-0fb51b011cc4",
   "metadata": {},
   "source": [
    "# welcome to numpy code\n"
   ]
  },
  {
   "cell_type": "code",
   "execution_count": 102,
   "id": "2cbb2d98-a1b9-47c8-b55c-541396b332c1",
   "metadata": {},
   "outputs": [],
   "source": [
    "import numpy as np\n",
    "\n"
   ]
  },
  {
   "cell_type": "code",
   "execution_count": 103,
   "id": "ab7b96eb-14c8-4ddb-94f1-7e178c1a581d",
   "metadata": {},
   "outputs": [],
   "source": [
    "myarr=np.array([[3,6,32,7]])"
   ]
  },
  {
   "cell_type": "code",
   "execution_count": 104,
   "id": "c31f0a83-75b0-498f-b4e6-624d107fa142",
   "metadata": {},
   "outputs": [
    {
     "data": {
      "text/plain": [
       "array([[ 3,  6, 32,  7]])"
      ]
     },
     "execution_count": 104,
     "metadata": {},
     "output_type": "execute_result"
    }
   ],
   "source": [
    "myarr"
   ]
  },
  {
   "cell_type": "markdown",
   "id": "46d4b5c7-e275-4323-8d71-bcd7735c5194",
   "metadata": {},
   "source": [
    "# for mamory mangement we can also define data limite of data intered \n",
    "# in the arr by writing dtypes=int8 ,int32 ....so on"
   ]
  },
  {
   "cell_type": "code",
   "execution_count": 105,
   "id": "d448fd05-28c6-4502-b9b3-f94aaae0371e",
   "metadata": {},
   "outputs": [],
   "source": [
    "my=np.array([3,35,62,34],np.int64)"
   ]
  },
  {
   "cell_type": "code",
   "execution_count": 106,
   "id": "27c7ddd7-b291-4748-9ec6-8eaf9a21a18f",
   "metadata": {},
   "outputs": [
    {
     "data": {
      "text/plain": [
       "array([ 3, 35, 62, 34], dtype=int64)"
      ]
     },
     "execution_count": 106,
     "metadata": {},
     "output_type": "execute_result"
    }
   ],
   "source": [
    "my"
   ]
  },
  {
   "cell_type": "code",
   "execution_count": 107,
   "id": "4c9cdfd5-6390-46a0-ab75-798cef0fe532",
   "metadata": {},
   "outputs": [
    {
     "data": {
      "text/plain": [
       "3"
      ]
     },
     "execution_count": 107,
     "metadata": {},
     "output_type": "execute_result"
    }
   ],
   "source": [
    "my[0]"
   ]
  },
  {
   "cell_type": "markdown",
   "id": "763bb995-a6c0-41bd-b5af-9ea7694dc573",
   "metadata": {},
   "source": [
    "# to know the data type and size we use .shape , .dtype"
   ]
  },
  {
   "cell_type": "code",
   "execution_count": 108,
   "id": "1cc53f50-c446-4f9a-8fb7-4f1c05b80ba5",
   "metadata": {},
   "outputs": [
    {
     "data": {
      "text/plain": [
       "(4,)"
      ]
     },
     "execution_count": 108,
     "metadata": {},
     "output_type": "execute_result"
    }
   ],
   "source": [
    "my.shape"
   ]
  },
  {
   "cell_type": "code",
   "execution_count": 109,
   "id": "4c8f45c9-afa6-4e6c-ad55-e2c32e869541",
   "metadata": {},
   "outputs": [
    {
     "data": {
      "text/plain": [
       "(1, 4)"
      ]
     },
     "execution_count": 109,
     "metadata": {},
     "output_type": "execute_result"
    }
   ],
   "source": [
    "myarr.shape"
   ]
  },
  {
   "cell_type": "code",
   "execution_count": 110,
   "id": "e623902d-1b9f-4293-8176-82e60d099f8b",
   "metadata": {},
   "outputs": [
    {
     "data": {
      "text/plain": [
       "dtype('int64')"
      ]
     },
     "execution_count": 110,
     "metadata": {},
     "output_type": "execute_result"
    }
   ],
   "source": [
    "my.dtype"
   ]
  },
  {
   "cell_type": "code",
   "execution_count": 111,
   "id": "09139130-0cc7-4890-9d2a-c81c7bcbbf7b",
   "metadata": {},
   "outputs": [
    {
     "data": {
      "text/plain": [
       "array([[ 3,  6, 32,  7]])"
      ]
     },
     "execution_count": 111,
     "metadata": {},
     "output_type": "execute_result"
    }
   ],
   "source": [
    "myarr"
   ]
  },
  {
   "cell_type": "markdown",
   "id": "b9b9649d-eebd-4a2e-8e14-785ee59dfdb5",
   "metadata": {},
   "source": [
    "# To change values in the arr"
   ]
  },
  {
   "cell_type": "code",
   "execution_count": 112,
   "id": "d161ffb7-4a76-45b8-8b9e-6abce1e8c357",
   "metadata": {},
   "outputs": [],
   "source": [
    "myarr[0,1]=45"
   ]
  },
  {
   "cell_type": "code",
   "execution_count": 113,
   "id": "6d28bbe5-c84c-456f-b42e-571249cc43a6",
   "metadata": {},
   "outputs": [
    {
     "data": {
      "text/plain": [
       "array([[ 3, 45, 32,  7]])"
      ]
     },
     "execution_count": 113,
     "metadata": {},
     "output_type": "execute_result"
    }
   ],
   "source": [
    "myarr"
   ]
  },
  {
   "cell_type": "markdown",
   "id": "4b29c1b9-bed5-4b4f-94e1-ac9ed4ba6a94",
   "metadata": {},
   "source": [
    "# Array creation methods in numpy "
   ]
  },
  {
   "cell_type": "markdown",
   "id": "d0437eaa-c83b-40ca-9bca-8c57f5a786a8",
   "metadata": {},
   "source": [
    "** There are 6 general mechanisms for creating arrays:\n",
    "\n",
    "Conversion from other Python structures (i.e. lists and tuples)\n",
    "\n",
    "Intrinsic NumPy array creation functions (e.g. arange, ones, zeros, etc.)\n",
    "\n",
    "Replicating, joining, or mutating existing arrays\n",
    "\n",
    "Reading arrays from disk, either from standard or custom formats\n",
    "\n",
    "Creating arrays from raw bytes through the use of strings or buffers\n",
    "\n",
    "Use of special library functions (e.g., random) **"
   ]
  },
  {
   "cell_type": "markdown",
   "id": "d88bba6d-f5e9-42ae-a494-ff10f480aae1",
   "metadata": {},
   "source": [
    "# Conversion from other Python structures (i.e. lists and tuples)"
   ]
  },
  {
   "cell_type": "code",
   "execution_count": 114,
   "id": "b6d0266b-ff5f-435a-9c44-c07df1e4aa4c",
   "metadata": {},
   "outputs": [],
   "source": [
    "listarray= np.array([[1,2,3],[4,5,6],[7,8,9]])"
   ]
  },
  {
   "cell_type": "code",
   "execution_count": 115,
   "id": "4ce235bd-b87c-4b06-af4e-1631f528aaa9",
   "metadata": {},
   "outputs": [
    {
     "data": {
      "text/plain": [
       "array([[1, 2, 3],\n",
       "       [4, 5, 6],\n",
       "       [7, 8, 9]])"
      ]
     },
     "execution_count": 115,
     "metadata": {},
     "output_type": "execute_result"
    }
   ],
   "source": [
    "listarray"
   ]
  },
  {
   "cell_type": "code",
   "execution_count": 116,
   "id": "ab431a6d-128e-4b6c-9599-969626a3962f",
   "metadata": {},
   "outputs": [
    {
     "data": {
      "text/plain": [
       "(3, 3)"
      ]
     },
     "execution_count": 116,
     "metadata": {},
     "output_type": "execute_result"
    }
   ],
   "source": [
    "listarray.shape"
   ]
  },
  {
   "cell_type": "code",
   "execution_count": 117,
   "id": "803f4311-4a26-4e13-a8fa-a0973d02b9cc",
   "metadata": {},
   "outputs": [
    {
     "data": {
      "text/plain": [
       "9"
      ]
     },
     "execution_count": 117,
     "metadata": {},
     "output_type": "execute_result"
    }
   ],
   "source": [
    "listarray.size"
   ]
  },
  {
   "cell_type": "code",
   "execution_count": 118,
   "id": "98ad134c-d5e0-4071-a186-af268a7e4b2c",
   "metadata": {},
   "outputs": [
    {
     "data": {
      "text/plain": [
       "dtype('int32')"
      ]
     },
     "execution_count": 118,
     "metadata": {},
     "output_type": "execute_result"
    }
   ],
   "source": [
    "listarray.dtype"
   ]
  },
  {
   "cell_type": "markdown",
   "id": "f5edcfdf-da0f-49bc-9ce7-1adc7c5b0e10",
   "metadata": {},
   "source": [
    "# Intrinsic NumPy array creation functions\n",
    "# (e.g. arange, ones, zeros, etc.)"
   ]
  },
  {
   "cell_type": "code",
   "execution_count": 119,
   "id": "f388f366-22b3-410d-91a6-0212921a0e15",
   "metadata": {},
   "outputs": [],
   "source": [
    "zero=np.zeros((2,5))"
   ]
  },
  {
   "cell_type": "code",
   "execution_count": 120,
   "id": "a0f7c03b-f215-4ac9-8647-2932694f81a5",
   "metadata": {},
   "outputs": [
    {
     "data": {
      "text/plain": [
       "array([[0., 0., 0., 0., 0.],\n",
       "       [0., 0., 0., 0., 0.]])"
      ]
     },
     "execution_count": 120,
     "metadata": {},
     "output_type": "execute_result"
    }
   ],
   "source": [
    "zero"
   ]
  },
  {
   "cell_type": "code",
   "execution_count": 121,
   "id": "cca83c81-ac1e-4d8c-af56-50ecd53c2ae3",
   "metadata": {},
   "outputs": [],
   "source": [
    "rng=np.arange(15)"
   ]
  },
  {
   "cell_type": "code",
   "execution_count": 122,
   "id": "bb43c7b4-97da-4b93-a503-4953ae789fb6",
   "metadata": {},
   "outputs": [
    {
     "data": {
      "text/plain": [
       "array([ 0,  1,  2,  3,  4,  5,  6,  7,  8,  9, 10, 11, 12, 13, 14])"
      ]
     },
     "execution_count": 122,
     "metadata": {},
     "output_type": "execute_result"
    }
   ],
   "source": [
    "rng"
   ]
  },
  {
   "cell_type": "code",
   "execution_count": 123,
   "id": "9b21ea43-6c38-4286-98ae-e81d80cf23de",
   "metadata": {},
   "outputs": [],
   "source": [
    "lspace=np.linspace(1,100,10)"
   ]
  },
  {
   "cell_type": "code",
   "execution_count": 124,
   "id": "5a3e080a-5af1-468b-876c-e9251c2de653",
   "metadata": {},
   "outputs": [
    {
     "data": {
      "text/plain": [
       "array([  1.,  12.,  23.,  34.,  45.,  56.,  67.,  78.,  89., 100.])"
      ]
     },
     "execution_count": 124,
     "metadata": {},
     "output_type": "execute_result"
    }
   ],
   "source": [
    "lspace"
   ]
  },
  {
   "cell_type": "code",
   "execution_count": 125,
   "id": "89dcca46-543b-40e3-994f-5de94761b163",
   "metadata": {},
   "outputs": [],
   "source": [
    "emp =np.empty((4,6))\n",
    "#it fill random elemnt"
   ]
  },
  {
   "cell_type": "code",
   "execution_count": 126,
   "id": "70d8453b-c324-4752-9bcc-a111e87b7d50",
   "metadata": {},
   "outputs": [
    {
     "data": {
      "text/plain": [
       "array([[6.23042070e-307, 4.67296746e-307, 1.69121096e-306,\n",
       "        1.11260280e-306, 1.95819673e-306, 1.15710427e-306],\n",
       "       [6.23056330e-307, 2.22526399e-307, 6.23053614e-307,\n",
       "        1.29060871e-306, 6.23055651e-307, 1.06811422e-306],\n",
       "       [3.56043054e-307, 1.37961641e-306, 9.45697982e-308,\n",
       "        1.78020169e-306, 7.56601165e-307, 1.02359984e-306],\n",
       "       [1.33510679e-306, 2.22522597e-306, 6.23053614e-307,\n",
       "        1.60221072e-306, 1.42410974e-306, 8.34445561e-308]])"
      ]
     },
     "execution_count": 126,
     "metadata": {},
     "output_type": "execute_result"
    }
   ],
   "source": [
    "emp"
   ]
  },
  {
   "cell_type": "code",
   "execution_count": 127,
   "id": "68bb5b24-0238-42b2-bcb7-bde5643893a7",
   "metadata": {},
   "outputs": [],
   "source": [
    "emp_like=np.empty_like(lspace)\n",
    "#it will return the passed array and now you can edite array"
   ]
  },
  {
   "cell_type": "code",
   "execution_count": 128,
   "id": "5f953395-a9b9-4488-b5d7-dc29eff3e6e0",
   "metadata": {},
   "outputs": [
    {
     "data": {
      "text/plain": [
       "array([  1.,  12.,  23.,  34.,  45.,  56.,  67.,  78.,  89., 100.])"
      ]
     },
     "execution_count": 128,
     "metadata": {},
     "output_type": "execute_result"
    }
   ],
   "source": [
    "emp_like"
   ]
  },
  {
   "cell_type": "code",
   "execution_count": 129,
   "id": "f9fae109-bce9-477b-836f-af33142b13d6",
   "metadata": {},
   "outputs": [],
   "source": [
    "ide=np.identity(45)"
   ]
  },
  {
   "cell_type": "code",
   "execution_count": 130,
   "id": "e3bc9979-7e0d-4421-9730-682b5d80fe60",
   "metadata": {},
   "outputs": [
    {
     "data": {
      "text/plain": [
       "array([[1., 0., 0., ..., 0., 0., 0.],\n",
       "       [0., 1., 0., ..., 0., 0., 0.],\n",
       "       [0., 0., 1., ..., 0., 0., 0.],\n",
       "       ...,\n",
       "       [0., 0., 0., ..., 1., 0., 0.],\n",
       "       [0., 0., 0., ..., 0., 1., 0.],\n",
       "       [0., 0., 0., ..., 0., 0., 1.]])"
      ]
     },
     "execution_count": 130,
     "metadata": {},
     "output_type": "execute_result"
    }
   ],
   "source": [
    "ide"
   ]
  },
  {
   "cell_type": "code",
   "execution_count": 131,
   "id": "8806f425-9938-412f-825e-dfec399816dd",
   "metadata": {},
   "outputs": [
    {
     "data": {
      "text/plain": [
       "(45, 45)"
      ]
     },
     "execution_count": 131,
     "metadata": {},
     "output_type": "execute_result"
    }
   ],
   "source": [
    "ide.shape"
   ]
  },
  {
   "cell_type": "code",
   "execution_count": 132,
   "id": "53ad7ae5-a720-41e9-b465-fe28439c7513",
   "metadata": {},
   "outputs": [
    {
     "data": {
      "text/plain": [
       "2025"
      ]
     },
     "execution_count": 132,
     "metadata": {},
     "output_type": "execute_result"
    }
   ],
   "source": [
    "ide.size"
   ]
  },
  {
   "cell_type": "code",
   "execution_count": 133,
   "id": "cc745be5-773c-4725-b1c9-aae0a6eeed84",
   "metadata": {},
   "outputs": [],
   "source": [
    "arr=np.arange(99)"
   ]
  },
  {
   "cell_type": "code",
   "execution_count": 134,
   "id": "6be98342-ef27-40bd-b36f-5cd40ffe805d",
   "metadata": {},
   "outputs": [
    {
     "data": {
      "text/plain": [
       "array([ 0,  1,  2,  3,  4,  5,  6,  7,  8,  9, 10, 11, 12, 13, 14, 15, 16,\n",
       "       17, 18, 19, 20, 21, 22, 23, 24, 25, 26, 27, 28, 29, 30, 31, 32, 33,\n",
       "       34, 35, 36, 37, 38, 39, 40, 41, 42, 43, 44, 45, 46, 47, 48, 49, 50,\n",
       "       51, 52, 53, 54, 55, 56, 57, 58, 59, 60, 61, 62, 63, 64, 65, 66, 67,\n",
       "       68, 69, 70, 71, 72, 73, 74, 75, 76, 77, 78, 79, 80, 81, 82, 83, 84,\n",
       "       85, 86, 87, 88, 89, 90, 91, 92, 93, 94, 95, 96, 97, 98])"
      ]
     },
     "execution_count": 134,
     "metadata": {},
     "output_type": "execute_result"
    }
   ],
   "source": [
    "arr"
   ]
  },
  {
   "cell_type": "code",
   "execution_count": 135,
   "id": "ff858cad-e3da-4c86-9874-79a20cfcad09",
   "metadata": {},
   "outputs": [],
   "source": [
    "arr=arr.reshape(3,33)"
   ]
  },
  {
   "cell_type": "code",
   "execution_count": 136,
   "id": "f22c587a-6e70-4acb-9b48-924541d5ae4e",
   "metadata": {},
   "outputs": [
    {
     "data": {
      "text/plain": [
       "array([[ 0,  1,  2,  3,  4,  5,  6,  7,  8,  9, 10, 11, 12, 13, 14, 15,\n",
       "        16, 17, 18, 19, 20, 21, 22, 23, 24, 25, 26, 27, 28, 29, 30, 31,\n",
       "        32],\n",
       "       [33, 34, 35, 36, 37, 38, 39, 40, 41, 42, 43, 44, 45, 46, 47, 48,\n",
       "        49, 50, 51, 52, 53, 54, 55, 56, 57, 58, 59, 60, 61, 62, 63, 64,\n",
       "        65],\n",
       "       [66, 67, 68, 69, 70, 71, 72, 73, 74, 75, 76, 77, 78, 79, 80, 81,\n",
       "        82, 83, 84, 85, 86, 87, 88, 89, 90, 91, 92, 93, 94, 95, 96, 97,\n",
       "        98]])"
      ]
     },
     "execution_count": 136,
     "metadata": {},
     "output_type": "execute_result"
    }
   ],
   "source": [
    "arr"
   ]
  },
  {
   "cell_type": "code",
   "execution_count": 137,
   "id": "63572b97-fc57-45ca-8210-ca6913d319aa",
   "metadata": {},
   "outputs": [],
   "source": [
    "# now to convert it into 1 D arr we use reval()\n",
    "arr=arr.ravel()"
   ]
  },
  {
   "cell_type": "code",
   "execution_count": 138,
   "id": "8101d7cc-29fe-4ca4-a867-64712757a1af",
   "metadata": {},
   "outputs": [
    {
     "data": {
      "text/plain": [
       "array([ 0,  1,  2,  3,  4,  5,  6,  7,  8,  9, 10, 11, 12, 13, 14, 15, 16,\n",
       "       17, 18, 19, 20, 21, 22, 23, 24, 25, 26, 27, 28, 29, 30, 31, 32, 33,\n",
       "       34, 35, 36, 37, 38, 39, 40, 41, 42, 43, 44, 45, 46, 47, 48, 49, 50,\n",
       "       51, 52, 53, 54, 55, 56, 57, 58, 59, 60, 61, 62, 63, 64, 65, 66, 67,\n",
       "       68, 69, 70, 71, 72, 73, 74, 75, 76, 77, 78, 79, 80, 81, 82, 83, 84,\n",
       "       85, 86, 87, 88, 89, 90, 91, 92, 93, 94, 95, 96, 97, 98])"
      ]
     },
     "execution_count": 138,
     "metadata": {},
     "output_type": "execute_result"
    }
   ],
   "source": [
    "arr"
   ]
  },
  {
   "cell_type": "code",
   "execution_count": 139,
   "id": "f5367bd5-9230-4d2b-b24e-27af20142636",
   "metadata": {},
   "outputs": [
    {
     "data": {
      "text/plain": [
       "(99,)"
      ]
     },
     "execution_count": 139,
     "metadata": {},
     "output_type": "execute_result"
    }
   ],
   "source": [
    "arr.shape"
   ]
  },
  {
   "cell_type": "markdown",
   "id": "df9f074f-c923-4a05-8772-61ce0c17b6ad",
   "metadata": {},
   "source": [
    "# Concept of axis "
   ]
  },
  {
   "cell_type": "markdown",
   "id": "f8d60070-9d4f-43b3-ac47-a02969401295",
   "metadata": {},
   "source": [
    "*** There are to type of Axis in 2D array \n",
    "first is Axis 0 which indicate row\n",
    "and second is axis 1 which indicate columen ***"
   ]
  },
  {
   "cell_type": "code",
   "execution_count": 140,
   "id": "8bc8fa7a-9197-4cfe-bd77-7482ef3dedbe",
   "metadata": {},
   "outputs": [],
   "source": [
    "x=[[1,2,3],[4,5,6],[7,8,9]]"
   ]
  },
  {
   "cell_type": "code",
   "execution_count": 141,
   "id": "1f1dc289-f9bd-48f1-b093-814008bebbd2",
   "metadata": {},
   "outputs": [],
   "source": [
    "v=np.array(x)"
   ]
  },
  {
   "cell_type": "code",
   "execution_count": 142,
   "id": "179744e5-318e-495c-8e20-21ef4386b800",
   "metadata": {},
   "outputs": [
    {
     "data": {
      "text/plain": [
       "array([[1, 2, 3],\n",
       "       [4, 5, 6],\n",
       "       [7, 8, 9]])"
      ]
     },
     "execution_count": 142,
     "metadata": {},
     "output_type": "execute_result"
    }
   ],
   "source": [
    "v"
   ]
  },
  {
   "cell_type": "code",
   "execution_count": 143,
   "id": "d226bd61-0063-4028-8b09-4a5e2a7023dd",
   "metadata": {},
   "outputs": [
    {
     "data": {
      "text/plain": [
       "array([12, 15, 18])"
      ]
     },
     "execution_count": 143,
     "metadata": {},
     "output_type": "execute_result"
    }
   ],
   "source": [
    "v.sum(axis=0)\n",
    "# in this 1+4+7=12"
   ]
  },
  {
   "cell_type": "code",
   "execution_count": 144,
   "id": "bceff88d",
   "metadata": {},
   "outputs": [
    {
     "data": {
      "text/plain": [
       "array([ 6, 15, 24])"
      ]
     },
     "execution_count": 144,
     "metadata": {},
     "output_type": "execute_result"
    }
   ],
   "source": [
    "v.sum(axis=1)"
   ]
  },
  {
   "cell_type": "markdown",
   "id": "6a7800d2",
   "metadata": {},
   "source": [
    "*** now to make any array transpose we use arr.T ***"
   ]
  },
  {
   "cell_type": "code",
   "execution_count": 145,
   "id": "ddd13a68",
   "metadata": {},
   "outputs": [
    {
     "data": {
      "text/plain": [
       "array([[1, 4, 7],\n",
       "       [2, 5, 8],\n",
       "       [3, 6, 9]])"
      ]
     },
     "execution_count": 145,
     "metadata": {},
     "output_type": "execute_result"
    }
   ],
   "source": [
    "v.T"
   ]
  },
  {
   "cell_type": "code",
   "execution_count": 146,
   "id": "b8922e6a",
   "metadata": {},
   "outputs": [
    {
     "data": {
      "text/plain": [
       "<numpy.flatiter at 0x13993726c70>"
      ]
     },
     "execution_count": 146,
     "metadata": {},
     "output_type": "execute_result"
    }
   ],
   "source": [
    "v.flat"
   ]
  },
  {
   "cell_type": "code",
   "execution_count": 147,
   "id": "6ea91b0d",
   "metadata": {},
   "outputs": [
    {
     "name": "stdout",
     "output_type": "stream",
     "text": [
      "1\n",
      "2\n",
      "3\n",
      "4\n",
      "5\n",
      "6\n",
      "7\n",
      "8\n",
      "9\n"
     ]
    }
   ],
   "source": [
    "for item in v.flat:\n",
    "    print(item)\n"
   ]
  },
  {
   "cell_type": "code",
   "execution_count": 148,
   "id": "273942a6",
   "metadata": {},
   "outputs": [
    {
     "data": {
      "text/plain": [
       "2"
      ]
     },
     "execution_count": 148,
     "metadata": {},
     "output_type": "execute_result"
    }
   ],
   "source": [
    "#to know dimention\n",
    "v.ndim"
   ]
  },
  {
   "cell_type": "code",
   "execution_count": 149,
   "id": "e73d5b62",
   "metadata": {},
   "outputs": [
    {
     "data": {
      "text/plain": [
       "9"
      ]
     },
     "execution_count": 149,
     "metadata": {},
     "output_type": "execute_result"
    }
   ],
   "source": [
    "v.size"
   ]
  },
  {
   "cell_type": "code",
   "execution_count": 150,
   "id": "40f07de8",
   "metadata": {},
   "outputs": [
    {
     "data": {
      "text/plain": [
       "36"
      ]
     },
     "execution_count": 150,
     "metadata": {},
     "output_type": "execute_result"
    }
   ],
   "source": [
    "v.nbytes\n",
    "# total biye consume"
   ]
  },
  {
   "cell_type": "code",
   "execution_count": 151,
   "id": "f2fc4c4f",
   "metadata": {},
   "outputs": [],
   "source": [
    "one =np.array([3,5,7,645,75])"
   ]
  },
  {
   "cell_type": "code",
   "execution_count": 152,
   "id": "a1eb7620",
   "metadata": {},
   "outputs": [
    {
     "data": {
      "text/plain": [
       "3"
      ]
     },
     "execution_count": 152,
     "metadata": {},
     "output_type": "execute_result"
    }
   ],
   "source": [
    "one.argmax()\n",
    "# it give index of max element"
   ]
  },
  {
   "cell_type": "code",
   "execution_count": 153,
   "id": "490aa89d",
   "metadata": {},
   "outputs": [
    {
     "data": {
      "text/plain": [
       "0"
      ]
     },
     "execution_count": 153,
     "metadata": {},
     "output_type": "execute_result"
    }
   ],
   "source": [
    "one.argmin()\n",
    "# it give index of min element"
   ]
  },
  {
   "cell_type": "code",
   "execution_count": 154,
   "id": "23305ad5",
   "metadata": {},
   "outputs": [
    {
     "data": {
      "text/plain": [
       "array([0, 1, 2, 4, 3], dtype=int64)"
      ]
     },
     "execution_count": 154,
     "metadata": {},
     "output_type": "execute_result"
    }
   ],
   "source": [
    "# to short the element index in inreasing order  we have argsort()\n",
    "one.argsort()"
   ]
  },
  {
   "cell_type": "code",
   "execution_count": 155,
   "id": "8cc7bc15",
   "metadata": {},
   "outputs": [
    {
     "data": {
      "text/plain": [
       "array([[1, 2, 3],\n",
       "       [4, 5, 6],\n",
       "       [7, 8, 9]])"
      ]
     },
     "execution_count": 155,
     "metadata": {},
     "output_type": "execute_result"
    }
   ],
   "source": [
    "v"
   ]
  },
  {
   "cell_type": "code",
   "execution_count": 156,
   "id": "166a316c",
   "metadata": {},
   "outputs": [
    {
     "data": {
      "text/plain": [
       "8"
      ]
     },
     "execution_count": 156,
     "metadata": {},
     "output_type": "execute_result"
    }
   ],
   "source": [
    "v.argmax()"
   ]
  },
  {
   "cell_type": "code",
   "execution_count": 157,
   "id": "afd82c38",
   "metadata": {},
   "outputs": [
    {
     "data": {
      "text/plain": [
       "0"
      ]
     },
     "execution_count": 157,
     "metadata": {},
     "output_type": "execute_result"
    }
   ],
   "source": [
    "v.argmin()"
   ]
  },
  {
   "cell_type": "code",
   "execution_count": 158,
   "id": "90d33e5a",
   "metadata": {},
   "outputs": [
    {
     "data": {
      "text/plain": [
       "array([2, 2, 2], dtype=int64)"
      ]
     },
     "execution_count": 158,
     "metadata": {},
     "output_type": "execute_result"
    }
   ],
   "source": [
    "v.argmax(axis=0)"
   ]
  },
  {
   "cell_type": "code",
   "execution_count": 159,
   "id": "1f6e613d",
   "metadata": {},
   "outputs": [
    {
     "data": {
      "text/plain": [
       "array([2, 2, 2], dtype=int64)"
      ]
     },
     "execution_count": 159,
     "metadata": {},
     "output_type": "execute_result"
    }
   ],
   "source": [
    "v.argmax(axis=1)"
   ]
  },
  {
   "cell_type": "code",
   "execution_count": 160,
   "id": "05299d6f",
   "metadata": {},
   "outputs": [
    {
     "data": {
      "text/plain": [
       "array([[0, 1, 2],\n",
       "       [0, 1, 2],\n",
       "       [0, 1, 2]], dtype=int64)"
      ]
     },
     "execution_count": 160,
     "metadata": {},
     "output_type": "execute_result"
    }
   ],
   "source": [
    "v.argsort(axis=1)"
   ]
  },
  {
   "cell_type": "code",
   "execution_count": 161,
   "id": "f4e4b540",
   "metadata": {},
   "outputs": [
    {
     "data": {
      "text/plain": [
       "array([1, 2, 3, 4, 5, 6, 7, 8, 9])"
      ]
     },
     "execution_count": 161,
     "metadata": {},
     "output_type": "execute_result"
    }
   ],
   "source": [
    "v.ravel()"
   ]
  },
  {
   "cell_type": "code",
   "execution_count": 162,
   "id": "02abe3bf",
   "metadata": {},
   "outputs": [
    {
     "data": {
      "text/plain": [
       "array([[1],\n",
       "       [2],\n",
       "       [3],\n",
       "       [4],\n",
       "       [5],\n",
       "       [6],\n",
       "       [7],\n",
       "       [8],\n",
       "       [9]])"
      ]
     },
     "execution_count": 162,
     "metadata": {},
     "output_type": "execute_result"
    }
   ],
   "source": [
    "v.reshape((9,1))"
   ]
  },
  {
   "cell_type": "code",
   "execution_count": 163,
   "id": "60425ecd",
   "metadata": {},
   "outputs": [
    {
     "data": {
      "text/plain": [
       "array([[1, 2, 3],\n",
       "       [4, 5, 6],\n",
       "       [7, 8, 9]])"
      ]
     },
     "execution_count": 163,
     "metadata": {},
     "output_type": "execute_result"
    }
   ],
   "source": [
    "v\n"
   ]
  },
  {
   "cell_type": "code",
   "execution_count": 164,
   "id": "88b42573",
   "metadata": {},
   "outputs": [],
   "source": [
    "v2=np.array([[1, 2, 3],\n",
    "       [4, 5, 6],\n",
    "       [7, 8, 9]])"
   ]
  },
  {
   "cell_type": "code",
   "execution_count": 165,
   "id": "37ebdee7",
   "metadata": {},
   "outputs": [
    {
     "data": {
      "text/plain": [
       "array([[ 2,  4,  6],\n",
       "       [ 8, 10, 12],\n",
       "       [14, 16, 18]])"
      ]
     },
     "execution_count": 165,
     "metadata": {},
     "output_type": "execute_result"
    }
   ],
   "source": [
    "v+v2"
   ]
  },
  {
   "cell_type": "code",
   "execution_count": 166,
   "id": "c0b5c595",
   "metadata": {},
   "outputs": [
    {
     "data": {
      "text/plain": [
       "array([[ 1,  4,  9],\n",
       "       [16, 25, 36],\n",
       "       [49, 64, 81]])"
      ]
     },
     "execution_count": 166,
     "metadata": {},
     "output_type": "execute_result"
    }
   ],
   "source": [
    "v*v2\n",
    "#matrix multiplication"
   ]
  },
  {
   "cell_type": "code",
   "execution_count": 167,
   "id": "9440014f",
   "metadata": {},
   "outputs": [
    {
     "data": {
      "text/plain": [
       "array([[1.        , 1.41421356, 1.73205081],\n",
       "       [2.        , 2.23606798, 2.44948974],\n",
       "       [2.64575131, 2.82842712, 3.        ]])"
      ]
     },
     "execution_count": 167,
     "metadata": {},
     "output_type": "execute_result"
    }
   ],
   "source": [
    "np.sqrt(v)\n",
    "#for sqare root"
   ]
  },
  {
   "cell_type": "code",
   "execution_count": 168,
   "id": "9066b44d",
   "metadata": {},
   "outputs": [
    {
     "data": {
      "text/plain": [
       "45"
      ]
     },
     "execution_count": 168,
     "metadata": {},
     "output_type": "execute_result"
    }
   ],
   "source": [
    "v.sum()"
   ]
  },
  {
   "cell_type": "code",
   "execution_count": 169,
   "id": "a39c8a17",
   "metadata": {},
   "outputs": [
    {
     "data": {
      "text/plain": [
       "1"
      ]
     },
     "execution_count": 169,
     "metadata": {},
     "output_type": "execute_result"
    }
   ],
   "source": [
    "v.min()"
   ]
  },
  {
   "cell_type": "code",
   "execution_count": 170,
   "id": "f09b003f",
   "metadata": {},
   "outputs": [
    {
     "data": {
      "text/plain": [
       "array([[1, 2, 3],\n",
       "       [4, 5, 6],\n",
       "       [7, 8, 9]])"
      ]
     },
     "execution_count": 170,
     "metadata": {},
     "output_type": "execute_result"
    }
   ],
   "source": [
    "v"
   ]
  },
  {
   "cell_type": "code",
   "execution_count": 171,
   "id": "7d0222f8",
   "metadata": {},
   "outputs": [
    {
     "data": {
      "text/plain": [
       "(array([1, 2, 2, 2], dtype=int64), array([2, 0, 1, 2], dtype=int64))"
      ]
     },
     "execution_count": 171,
     "metadata": {},
     "output_type": "execute_result"
    }
   ],
   "source": [
    "# we can allso write such type of statement  using where\n",
    "np.where(v>5)"
   ]
  },
  {
   "cell_type": "code",
   "execution_count": 172,
   "id": "b3101742",
   "metadata": {},
   "outputs": [
    {
     "data": {
      "text/plain": [
       "9"
      ]
     },
     "execution_count": 172,
     "metadata": {},
     "output_type": "execute_result"
    }
   ],
   "source": [
    "np.count_nonzero(v)"
   ]
  },
  {
   "cell_type": "code",
   "execution_count": 173,
   "id": "f3cf9069",
   "metadata": {},
   "outputs": [
    {
     "data": {
      "text/plain": [
       "(array([0, 0, 0, 1, 1, 1, 2, 2, 2], dtype=int64),\n",
       " array([0, 1, 2, 0, 1, 2, 0, 1, 2], dtype=int64))"
      ]
     },
     "execution_count": 173,
     "metadata": {},
     "output_type": "execute_result"
    }
   ],
   "source": [
    "np.nonzero(v)"
   ]
  },
  {
   "cell_type": "code",
   "execution_count": 174,
   "id": "8ebd704b",
   "metadata": {},
   "outputs": [],
   "source": [
    "import sys"
   ]
  },
  {
   "cell_type": "code",
   "execution_count": 175,
   "id": "19cc0d87",
   "metadata": {},
   "outputs": [],
   "source": [
    "py_ar=[0,4,55,2]"
   ]
  },
  {
   "cell_type": "code",
   "execution_count": 176,
   "id": "f10015dc",
   "metadata": {},
   "outputs": [],
   "source": [
    "np_ar=np.array(py_ar)"
   ]
  },
  {
   "cell_type": "code",
   "execution_count": 177,
   "id": "64a85b7d",
   "metadata": {},
   "outputs": [
    {
     "data": {
      "text/plain": [
       "112"
      ]
     },
     "execution_count": 177,
     "metadata": {},
     "output_type": "execute_result"
    }
   ],
   "source": [
    "sys.getsizeof(1)*len(py_ar)"
   ]
  },
  {
   "cell_type": "code",
   "execution_count": 178,
   "id": "9bd8c8b7",
   "metadata": {},
   "outputs": [
    {
     "data": {
      "text/plain": [
       "16"
      ]
     },
     "execution_count": 178,
     "metadata": {},
     "output_type": "execute_result"
    }
   ],
   "source": [
    "np_ar.itemsize*np_ar.size"
   ]
  },
  {
   "cell_type": "markdown",
   "id": "10394421",
   "metadata": {},
   "source": [
    "*** you can see that numpy take much less space ***"
   ]
  },
  {
   "cell_type": "markdown",
   "id": "1f987948",
   "metadata": {},
   "source": [
    "***"
   ]
  },
  {
   "cell_type": "code",
   "execution_count": null,
   "id": "8d5a7cf6",
   "metadata": {},
   "outputs": [],
   "source": []
  }
 ],
 "metadata": {
  "kernelspec": {
   "display_name": "Python 3 (ipykernel)",
   "language": "python",
   "name": "python3"
  },
  "language_info": {
   "codemirror_mode": {
    "name": "ipython",
    "version": 3
   },
   "file_extension": ".py",
   "mimetype": "text/x-python",
   "name": "python",
   "nbconvert_exporter": "python",
   "pygments_lexer": "ipython3",
   "version": "3.11.3"
  }
 },
 "nbformat": 4,
 "nbformat_minor": 5
}
